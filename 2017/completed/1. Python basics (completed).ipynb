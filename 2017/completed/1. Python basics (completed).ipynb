{
 "cells": [
  {
   "cell_type": "markdown",
   "metadata": {},
   "source": [
    "# Python basics\n",
    "\n",
    "Before we dive in, we need to cover some basics: printing things, common data types, the concept of variable assignments and module imports, and a couple of things that will come in handy when we start cleaning data."
   ]
  },
  {
   "cell_type": "markdown",
   "metadata": {},
   "source": [
    "## Printing things\n",
    "\n",
    "When you call the `print()` function, it will display in the terminal (or notebook, in this case) whatever you tell it to print."
   ]
  },
  {
   "cell_type": "markdown",
   "metadata": {},
   "source": [
    "## Using variables to store references to things\n",
    "\n",
    "The **`=`** sign assigns a value to a variable name that you choose. Later, you can call the variable to retrieve the value assigned to it.\n",
    "\n",
    "Variable names can be pretty much anything you want (as long as you [follow some basic rules](https://thehelloworldprogram.com/python/python-variable-assignment-statements-rules-conventions-naming/))."
   ]
  },
  {
   "cell_type": "markdown",
   "metadata": {},
   "source": [
    "## Strings\n",
    "\n",
    "In Python, a string is anything sandwiched between two quotes -- they can be double or single quotes, doesn't matter (as long as they match).\n",
    "\n",
    "**Assign your name to the variable `my_name` in the format \"Doe, John\", then print `my_name`.**"
   ]
  },
  {
   "cell_type": "code",
   "execution_count": 1,
   "metadata": {},
   "outputs": [
    {
     "name": "stdout",
     "output_type": "stream",
     "text": [
      "Winchester, Cody\n"
     ]
    }
   ],
   "source": [
    "my_name = \"Winchester, Cody\"\n",
    "print(my_name)"
   ]
  },
  {
   "cell_type": "markdown",
   "metadata": {
    "collapsed": true
   },
   "source": [
    "### Join strings together\n",
    "\n",
    "Concatenate strings using **`+`**.\n",
    "\n",
    "**Print `my_name` + \" is a DJNF intern.\"**"
   ]
  },
  {
   "cell_type": "code",
   "execution_count": 2,
   "metadata": {},
   "outputs": [
    {
     "name": "stdout",
     "output_type": "stream",
     "text": [
      "Winchester, Cody is a DJNF intern.\n"
     ]
    }
   ],
   "source": [
    "print(my_name + \" is a DJNF intern.\")"
   ]
  },
  {
   "cell_type": "markdown",
   "metadata": {},
   "source": [
    "### Change the case of a string\n",
    "\n",
    "Use the `upper()`, `lower()` and `title()` methods to make a string all-caps, lowercase or title-case.\n",
    "\n",
    "**Try out each function on `my_name`, printing the result each time.**"
   ]
  },
  {
   "cell_type": "code",
   "execution_count": 4,
   "metadata": {},
   "outputs": [
    {
     "name": "stdout",
     "output_type": "stream",
     "text": [
      "WINCHESTER, CODY\n",
      "winchester, cody\n",
      "Winchester, Cody\n"
     ]
    }
   ],
   "source": [
    "print(my_name.upper())\n",
    "print(my_name.lower())\n",
    "print(my_name.title())"
   ]
  },
  {
   "cell_type": "markdown",
   "metadata": {},
   "source": [
    "### Strip whitespace\n",
    "\n",
    "The `strip()` method erases whitespace on either side of a character string -- this comes in handy when you're cleaning data.\n",
    "\n",
    "**Assign the string \"&nbsp;&nbsp;&nbsp;&nbsp;&nbsp;&nbsp;&nbsp;ugh gross this is an ugly string&nbsp;&nbsp;&nbsp;&nbsp;&nbsp;\" to the variable `my_ugly_string`. Print `my_ugly_string`.**"
   ]
  },
  {
   "cell_type": "code",
   "execution_count": 8,
   "metadata": {},
   "outputs": [
    {
     "name": "stdout",
     "output_type": "stream",
     "text": [
      "       ugh gross this is an ugly string     \n"
     ]
    }
   ],
   "source": [
    "my_ugly_string = \"       ugh gross this is an ugly string     \"\n",
    "print(my_ugly_string)"
   ]
  },
  {
   "cell_type": "markdown",
   "metadata": {},
   "source": [
    "**Now call the `strip()` method on `my_ugly_string` and assign the result to a new variable `my_pretty_string`. Print `my_pretty_string`.**"
   ]
  },
  {
   "cell_type": "code",
   "execution_count": 7,
   "metadata": {},
   "outputs": [
    {
     "name": "stdout",
     "output_type": "stream",
     "text": [
      "ugh gross this is an ugly string\n"
     ]
    }
   ],
   "source": [
    "my_pretty_string = my_ugly_string.strip()\n",
    "print(my_pretty_string)"
   ]
  },
  {
   "cell_type": "markdown",
   "metadata": {},
   "source": [
    "## Integers\n",
    "\n",
    "A whole number.\n",
    "\n",
    "**Assign your current age to the variable `my_age`, then print `my_age`.**"
   ]
  },
  {
   "cell_type": "code",
   "execution_count": 9,
   "metadata": {},
   "outputs": [
    {
     "name": "stdout",
     "output_type": "stream",
     "text": [
      "31\n"
     ]
    }
   ],
   "source": [
    "my_age = 31\n",
    "print(my_age)"
   ]
  },
  {
   "cell_type": "markdown",
   "metadata": {},
   "source": [
    "### Integer arithmetic\n",
    "\n",
    "You can do basic math in Python. (Also, you can do [more advanced math](https://docs.python.org/3/library/math.html).)\n",
    "\n",
    "**Print `my_age` minus 10.**"
   ]
  },
  {
   "cell_type": "code",
   "execution_count": 10,
   "metadata": {},
   "outputs": [
    {
     "name": "stdout",
     "output_type": "stream",
     "text": [
      "21\n"
     ]
    }
   ],
   "source": [
    "print(my_age - 10)"
   ]
  },
  {
   "cell_type": "markdown",
   "metadata": {},
   "source": [
    "## Floats\n",
    "\n",
    "A number with a decimal.\n",
    "\n",
    "**Assign the percentage of Americans over age 65 (14.5 percent) to the variable `older_americans`, then print `older_americans`.**"
   ]
  },
  {
   "cell_type": "code",
   "execution_count": 12,
   "metadata": {},
   "outputs": [
    {
     "name": "stdout",
     "output_type": "stream",
     "text": [
      "14.5\n"
     ]
    }
   ],
   "source": [
    "older_americans = 14.5\n",
    "print(older_americans)"
   ]
  },
  {
   "cell_type": "markdown",
   "metadata": {},
   "source": [
    "## Booleans\n",
    "\n",
    "True or False (always titlecase, never wrapped in quotes). We will use booleans extensively when we start working with flow control.\n",
    "\n",
    "**Assign a boolean -- either True or False -- to the variable `my_boolean`, then print it.**"
   ]
  },
  {
   "cell_type": "code",
   "execution_count": 14,
   "metadata": {},
   "outputs": [
    {
     "name": "stdout",
     "output_type": "stream",
     "text": [
      "True\n"
     ]
    }
   ],
   "source": [
    "my_boolean = True\n",
    "print(my_boolean)"
   ]
  },
  {
   "cell_type": "markdown",
   "metadata": {},
   "source": [
    "A boolean is returned when you evaluate a logical statement.\n",
    "\n",
    "**See what happens when you enter the expression `4 > 6`.**"
   ]
  },
  {
   "cell_type": "code",
   "execution_count": 15,
   "metadata": {},
   "outputs": [
    {
     "data": {
      "text/plain": [
       "False"
      ]
     },
     "execution_count": 15,
     "metadata": {},
     "output_type": "execute_result"
    }
   ],
   "source": [
    "4 > 6"
   ]
  },
  {
   "cell_type": "markdown",
   "metadata": {},
   "source": [
    "## Lists\n",
    "\n",
    "A list is a collection of objects inside square brackets.\n",
    "\n",
    "**Create a list with four items -- 'Tomato', 'Onion', 'Vinegar', 'Cilantro' -- and assign it to the variable `salsa_list`. Then print `salsa_list`.**"
   ]
  },
  {
   "cell_type": "code",
   "execution_count": 16,
   "metadata": {},
   "outputs": [
    {
     "name": "stdout",
     "output_type": "stream",
     "text": [
      "['Tomato', 'Onion', 'Vinegar', 'Cilantro']\n"
     ]
    }
   ],
   "source": [
    "salsa_list = ['Tomato', 'Onion', 'Vinegar', 'Cilantro']\n",
    "print(salsa_list)"
   ]
  },
  {
   "cell_type": "markdown",
   "metadata": {},
   "source": [
    "**How many items are in the list? Use the `len()` function to find out.**"
   ]
  },
  {
   "cell_type": "code",
   "execution_count": 17,
   "metadata": {},
   "outputs": [
    {
     "data": {
      "text/plain": [
       "4"
      ]
     },
     "execution_count": 17,
     "metadata": {},
     "output_type": "execute_result"
    }
   ],
   "source": [
    "len(salsa_list)"
   ]
  },
  {
   "cell_type": "markdown",
   "metadata": {},
   "source": [
    "You can also get a specific value from a list using \"bracket notation\" and providing the item's position -- its \"index\" -- in the list. In Python, counting starts at zero, so the first item is `[0]`.\n",
    "\n",
    "**Return the second value in `salsa_list`.**"
   ]
  },
  {
   "cell_type": "code",
   "execution_count": 18,
   "metadata": {},
   "outputs": [
    {
     "data": {
      "text/plain": [
       "'Onion'"
      ]
     },
     "execution_count": 18,
     "metadata": {},
     "output_type": "execute_result"
    }
   ],
   "source": [
    "salsa_list[1]"
   ]
  },
  {
   "cell_type": "markdown",
   "metadata": {},
   "source": [
    "You can use the `append()` method to add new items to your list.\n",
    "\n",
    "**Use `append()` to add a new item, 'Serrano Pepper', to `salsa_list`.**"
   ]
  },
  {
   "cell_type": "code",
   "execution_count": 19,
   "metadata": {
    "collapsed": true
   },
   "outputs": [],
   "source": [
    "salsa_list.append('Serrano Pepper')"
   ]
  },
  {
   "cell_type": "markdown",
   "metadata": {},
   "source": [
    "**Now print `salsa_list` again.**"
   ]
  },
  {
   "cell_type": "code",
   "execution_count": 20,
   "metadata": {},
   "outputs": [
    {
     "name": "stdout",
     "output_type": "stream",
     "text": [
      "['Tomato', 'Onion', 'Vinegar', 'Cilantro', 'Serrano Pepper']\n"
     ]
    }
   ],
   "source": [
    "print(salsa_list)"
   ]
  },
  {
   "cell_type": "markdown",
   "metadata": {},
   "source": [
    "### Splitting strings into lists\n",
    "\n",
    "Right now, `my_name` is formatted *Last, First* ... but what if we wanted to print your name in the correct order? We can use the `split()` method to explode the string into a list and work with it from there.\n",
    "\n",
    "If you don't tell `split()` what to split on, it'll default to a space (' '). Here, we want to split on a comma + space (', ').\n",
    "\n",
    "**Split `my_name` into a list and assign it to a variable called `name_list`. Print `name_list`.**"
   ]
  },
  {
   "cell_type": "code",
   "execution_count": 21,
   "metadata": {},
   "outputs": [
    {
     "name": "stdout",
     "output_type": "stream",
     "text": [
      "['Winchester', 'Cody']\n"
     ]
    }
   ],
   "source": [
    "name_list = my_name.split(', ')\n",
    "print(name_list)"
   ]
  },
  {
   "cell_type": "markdown",
   "metadata": {},
   "source": [
    "Your first name should be the second (`[1]`) item in `name_list`.\n",
    "\n",
    "**Print out your first name.**"
   ]
  },
  {
   "cell_type": "code",
   "execution_count": 22,
   "metadata": {},
   "outputs": [
    {
     "name": "stdout",
     "output_type": "stream",
     "text": [
      "Cody\n"
     ]
    }
   ],
   "source": [
    "print(name_list[1])"
   ]
  },
  {
   "cell_type": "markdown",
   "metadata": {},
   "source": [
    "**Now print your first name plus a space plus your last name.**"
   ]
  },
  {
   "cell_type": "code",
   "execution_count": 24,
   "metadata": {},
   "outputs": [
    {
     "name": "stdout",
     "output_type": "stream",
     "text": [
      "Cody Winchester\n"
     ]
    }
   ],
   "source": [
    "print(name_list[1] + ' ' + name_list[0])"
   ]
  },
  {
   "cell_type": "markdown",
   "metadata": {},
   "source": [
    "## Dictionaries\n",
    "\n",
    "A dictionary is a data structure with keys (typically strings) mapped to values (which can be any data type, even another dictionary, or a variable you've previously defined) inside curly brackets.\n",
    "\n",
    "**Create a dictionary called `my_dict` with a `title` ('My favorite salsa recipe'), `heat_level` (11) and `ingredients` (`salsa_list`). Print `my_dict`.**\n"
   ]
  },
  {
   "cell_type": "code",
   "execution_count": 25,
   "metadata": {},
   "outputs": [
    {
     "name": "stdout",
     "output_type": "stream",
     "text": [
      "{'title': 'My favorite salsa recipe', 'heat_level': 11, 'ingredients': ['Tomato', 'Onion', 'Vinegar', 'Cilantro', 'Serrano Pepper']}\n"
     ]
    }
   ],
   "source": [
    "my_dict = {'title': 'My favorite salsa recipe', 'heat_level': 11, 'ingredients': salsa_list}\n",
    "print(my_dict)"
   ]
  },
  {
   "cell_type": "markdown",
   "metadata": {},
   "source": [
    "You can get values from a dictionary by using bracket notation and providing the name of the key.\n",
    "\n",
    "**Print the value of `heat_level` in `my_dict`.**"
   ]
  },
  {
   "cell_type": "code",
   "execution_count": 26,
   "metadata": {},
   "outputs": [
    {
     "name": "stdout",
     "output_type": "stream",
     "text": [
      "11\n"
     ]
    }
   ],
   "source": [
    "print(my_dict['heat_level'])"
   ]
  },
  {
   "cell_type": "markdown",
   "metadata": {},
   "source": [
    "What if you wanted to print the third item in the `ingredients` list inside `my_dict`?\n",
    "\n",
    "![whooooooooaaaaaa](https://i.giphy.com/pXPOApWXuJaMw.gif \"oh man for REAL?!\")\n",
    "\n",
    "**Try to do that.**"
   ]
  },
  {
   "cell_type": "code",
   "execution_count": 27,
   "metadata": {},
   "outputs": [
    {
     "name": "stdout",
     "output_type": "stream",
     "text": [
      "Vinegar\n"
     ]
    }
   ],
   "source": [
    "print(my_dict['ingredients'][2])"
   ]
  },
  {
   "cell_type": "markdown",
   "metadata": {},
   "source": [
    "You can also use bracket notation and an equals sign to add things to a dictionary.\n",
    "\n",
    "**Using bracket notation, add a new key/value pair, `chips` ('Doritos'), to `my_dict`, then print `my_dict`.**"
   ]
  },
  {
   "cell_type": "code",
   "execution_count": 28,
   "metadata": {},
   "outputs": [
    {
     "name": "stdout",
     "output_type": "stream",
     "text": [
      "{'title': 'My favorite salsa recipe', 'heat_level': 11, 'ingredients': ['Tomato', 'Onion', 'Vinegar', 'Cilantro', 'Serrano Pepper'], 'chips': 'Doritos'}\n"
     ]
    }
   ],
   "source": [
    "my_dict['chips'] = 'Doritos'\n",
    "print(my_dict)"
   ]
  },
  {
   "cell_type": "markdown",
   "metadata": {},
   "source": [
    "## Check the type!\n",
    "\n",
    "If you're not sure what you kind of object you're dealing with, use the `type()` function to check.\n",
    "\n",
    "**Use `type()` to see what kind of object `my_name` is.**"
   ]
  },
  {
   "cell_type": "code",
   "execution_count": 29,
   "metadata": {},
   "outputs": [
    {
     "data": {
      "text/plain": [
       "str"
      ]
     },
     "execution_count": 29,
     "metadata": {},
     "output_type": "execute_result"
    }
   ],
   "source": [
    "type(my_name)"
   ]
  },
  {
   "cell_type": "markdown",
   "metadata": {},
   "source": [
    "## Importing modules\n",
    "\n",
    "The `import` command is used to bring in other scripts, external modules, functions and other things to use in your script.\n",
    "\n",
    "We have a file, `my_cool_vars.py`, with some pre-defined variables in it. Let's import them into this script."
   ]
  },
  {
   "cell_type": "code",
   "execution_count": 30,
   "metadata": {
    "collapsed": true
   },
   "outputs": [],
   "source": [
    "import my_cool_vars as mcv"
   ]
  },
  {
   "cell_type": "markdown",
   "metadata": {},
   "source": [
    "Now, using dot notation, we can access the variables inside that file.\n",
    "\n",
    "**Print `mcv.djnf_interns`.**"
   ]
  },
  {
   "cell_type": "code",
   "execution_count": 31,
   "metadata": {},
   "outputs": [
    {
     "name": "stdout",
     "output_type": "stream",
     "text": [
      "['Iuliia', 'Jonathan', 'Sahil', 'Camille', 'Aidan', 'Alexander', 'Rilyn', 'Hayley', 'Kenneth', 'Olivia', 'Annie', 'William', 'Olivia', 'Shannon', 'David', 'Isha', 'Justina', 'Harry']\n"
     ]
    }
   ],
   "source": [
    "print(mcv.djnf_interns)"
   ]
  },
  {
   "cell_type": "markdown",
   "metadata": {},
   "source": [
    "**Print `mcv.djnf_dict`.**"
   ]
  },
  {
   "cell_type": "code",
   "execution_count": 32,
   "metadata": {},
   "outputs": [
    {
     "data": {
      "text/plain": [
       "{'event': 'DJNF data training',\n",
       " 'place': 'Columbia, MO',\n",
       " 'students': ['Iuliia',\n",
       "  'Jonathan',\n",
       "  'Sahil',\n",
       "  'Camille',\n",
       "  'Aidan',\n",
       "  'Alexander',\n",
       "  'Rilyn',\n",
       "  'Hayley',\n",
       "  'Kenneth',\n",
       "  'Olivia',\n",
       "  'Annie',\n",
       "  'William',\n",
       "  'Olivia',\n",
       "  'Shannon',\n",
       "  'David',\n",
       "  'Isha',\n",
       "  'Justina',\n",
       "  'Harry']}"
      ]
     },
     "execution_count": 32,
     "metadata": {},
     "output_type": "execute_result"
    }
   ],
   "source": [
    "mcv.djnf_dict"
   ]
  }
 ],
 "metadata": {
  "kernelspec": {
   "display_name": "Python 3",
   "language": "python",
   "name": "python3"
  },
  "language_info": {
   "codemirror_mode": {
    "name": "ipython",
    "version": 3
   },
   "file_extension": ".py",
   "mimetype": "text/x-python",
   "name": "python",
   "nbconvert_exporter": "python",
   "pygments_lexer": "ipython3",
   "version": "3.6.1"
  }
 },
 "nbformat": 4,
 "nbformat_minor": 2
}
